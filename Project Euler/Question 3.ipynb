{
 "cells": [
  {
   "cell_type": "code",
   "execution_count": 1,
   "metadata": {},
   "outputs": [
    {
     "name": "stdout",
     "output_type": "stream",
     "text": [
      "2 and 10\n",
      "4 and 5\n"
     ]
    },
    {
     "data": {
      "text/plain": [
       "'\\ndef isPrime(x):\\n    for i in range(2,x-1):\\n        if x % i == 0:\\n            return False\\n    return True\\n\\n   \\nfor i in range (3,int(x/2)):\\n \\n    if (x % i == 0) and isprime(i):\\n        \\n        y = i\\n        print(y)\\n    \\n    else:\\n        \\n        i = i + 2\\n'"
      ]
     },
     "execution_count": 1,
     "metadata": {},
     "output_type": "execute_result"
    }
   ],
   "source": [
    "\"\"\"\n",
    "Created on Tue Jul 27 13:43:17 2021\n",
    "\n",
    "@author: Fogol\n",
    "\n",
    "Project Euler Problem 3\n",
    "The prime factors of 13195 are 5, 7, 13 and 29.\n",
    "\n",
    "What is the largest prime factor of the number 600851475143 ?\n",
    "\"\"\"   \n",
    "def factors(originalNumber,startRange,endRange):\n",
    "    if startRange > endRange:\n",
    "        return True\n",
    "    for i in range(startRange,endRange):                      #Goes through range between 2 and the original number\"\n",
    "        if (originalNumber % i == 0):                          #If the original number is divisable by any number of the range then start recursion and break this instance of the for loop\"\n",
    "            largeFactor = int(originalNumber / i)                #Change end range for recursion\n",
    "            smallFactor = int(i)                                #Change start range for recursion\n",
    "            print(smallFactor, 'and', largeFactor)                #Prints New Start and End Range\n",
    "            smallFactor = int(i+1)                              #Changes Start Range for Recursion\n",
    "            factors(originalNumber,smallFactor,largeFactor)      #Calls Recursion\n",
    "            break                                               #Breaks for loop\n",
    "    return True\n",
    "\n",
    "x = 20\n",
    "y = 1\n",
    "\n",
    "factors(x,2,x)\n",
    "\n",
    "\"\"\"\n",
    "def isPrime(x):\n",
    "    for i in range(2,x-1):\n",
    "        if x % i == 0:\n",
    "            return False\n",
    "    return True\n",
    "\n",
    "   \n",
    "for i in range (3,int(x/2)):\n",
    " \n",
    "    if (x % i == 0) and isprime(i):\n",
    "        \n",
    "        y = i\n",
    "        print(y)\n",
    "    \n",
    "    else:\n",
    "        \n",
    "        i = i + 2\n",
    "\"\"\""
   ]
  }
 ],
 "metadata": {
  "kernelspec": {
   "display_name": "Python 3.10.5 64-bit",
   "language": "python",
   "name": "python3"
  },
  "language_info": {
   "codemirror_mode": {
    "name": "ipython",
    "version": 3
   },
   "file_extension": ".py",
   "mimetype": "text/x-python",
   "name": "python",
   "nbconvert_exporter": "python",
   "pygments_lexer": "ipython3",
   "version": "3.10.5"
  },
  "orig_nbformat": 4,
  "vscode": {
   "interpreter": {
    "hash": "689d7d1ce704ce18c4097533547d3dac0ab6501a30fd19e47700b34955fb39f1"
   }
  }
 },
 "nbformat": 4,
 "nbformat_minor": 2
}
