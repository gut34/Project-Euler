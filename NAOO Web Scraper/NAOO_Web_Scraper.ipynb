{
 "cells": [
  {
   "cell_type": "markdown",
   "metadata": {},
   "source": [
    "Creating a web scraping program to email myself when there is a potential for an Aurora Borealis"
   ]
  },
  {
   "cell_type": "code",
   "execution_count": 1,
   "metadata": {},
   "outputs": [
    {
     "name": "stdout",
     "output_type": "stream",
     "text": [
      ":Product: Geomagnetic Forecast\n",
      ":Issued: 2022 Aug 08 2205 UTC\n",
      "# Prepared by the U.S. Dept. of Commerce, NOAA, Space Weather Prediction Center\n",
      "#\n",
      "NOAA Ap Index Forecast\n",
      "Observed Ap 07 Aug 024\n",
      "Estimated Ap 08 Aug 030\n",
      "Predicted Ap 09 Aug-11 Aug 016-012-010\n",
      "\n",
      "NOAA Geomagnetic Activity Probabilities 09 Aug-11 Aug\n",
      "Active                40/35/35\n",
      "Minor storm           30/25/15\n",
      "Moderate storm        15/10/05\n",
      "Strong-Extreme storm  01/01/01\n",
      "\n",
      "NOAA Kp index forecast 09 Aug - 11 Aug\n",
      "             Aug 09    Aug 10    Aug 11\n",
      "00-03UT        3         4         3\n",
      "03-06UT        4         3         2\n",
      "06-09UT        3         3         2\n",
      "09-12UT        2         2         2\n",
      "12-15UT        2         2         2\n",
      "15-18UT        3         2         2\n",
      "18-21UT        3         2         2\n",
      "21-00UT        4         2         3\n",
      "\n"
     ]
    }
   ],
   "source": [
    "import requests\n",
    "\n",
    "URL = \"https://services.swpc.noaa.gov/text/3-day-geomag-forecast.txt\"\n",
    "text_file = requests.get(URL).text\n",
    "\n",
    "print(text_file)"
   ]
  },
  {
   "cell_type": "code",
   "execution_count": 2,
   "metadata": {},
   "outputs": [
    {
     "name": "stdout",
     "output_type": "stream",
     "text": [
      "['00-03UT', '3', '4', '3']\n",
      "['03-06UT', '4', '3', '2']\n",
      "['06-09UT', '3', '3', '2']\n",
      "['09-12UT', '2', '2', '2']\n",
      "['12-15UT', '2', '2', '2']\n",
      "['15-18UT', '3', '2', '2']\n",
      "['18-21UT', '3', '2', '2']\n",
      "['21-00UT', '4', '2', '3']\n",
      "['00-03 MST', 3, 3, 2]\n",
      "['03-06 MST', 2, 2, 2]\n",
      "['06-09 MST', 2, 2, 2]\n",
      "['09-12 MST', 3, 2, 2]\n",
      "['12-15 MST', 3, 2, 2]\n",
      "['15-18 MST', 4, 2, 3]\n",
      "['18-21 MST', 3, 2, 'NA']\n",
      "['21-24 MST', 2, 2, 'NA']\n"
     ]
    }
   ],
   "source": [
    "line = text_file.split('\\n')\n",
    "new_line = []\n",
    "for row in range(17,25):\n",
    "    new_line.append(line[row].split(' '))\n",
    "    for i in range(new_line[row-17].count('')):\n",
    "        new_line[row-17].remove('')\n",
    "print(*new_line,sep ='\\n')\n",
    "\n",
    "first_time = 0\n",
    "second_time = 3\n",
    "for i in range(len(new_line)):\n",
    "    new_line[i][0] = \"{:02d}\".format(first_time) + '-' + \"{:02d}\".format(second_time) + \" MST\"\n",
    "    first_time += 3\n",
    "    second_time += 3\n",
    "    for j in range(1,len(new_line[i])):\n",
    "        try:\n",
    "            new_line[i][j] = int(new_line[(i+2)%8][int((i+2)/8) + j])\n",
    "        except:\n",
    "            new_line[i][j] = 'NA'\n",
    "print(*new_line,sep ='\\n')"
   ]
  },
  {
   "cell_type": "code",
   "execution_count": 3,
   "metadata": {},
   "outputs": [
    {
     "name": "stdout",
     "output_type": "stream",
     "text": [
      "True\n"
     ]
    }
   ],
   "source": [
    "indicator = False\n",
    "magnitude = 4\n",
    "i = 0\n",
    "while i < len(new_line) and indicator == False:\n",
    "    for j in range(1,len(new_line[i])):\n",
    "        try:\n",
    "            if new_line[i][j] >= magnitude:\n",
    "                indicator = True\n",
    "                break\n",
    "        except:\n",
    "            pass\n",
    "    i += 1\n",
    "print(indicator)"
   ]
  }
 ],
 "metadata": {
  "kernelspec": {
   "display_name": "Python 3.10.5 64-bit",
   "language": "python",
   "name": "python3"
  },
  "language_info": {
   "codemirror_mode": {
    "name": "ipython",
    "version": 3
   },
   "file_extension": ".py",
   "mimetype": "text/x-python",
   "name": "python",
   "nbconvert_exporter": "python",
   "pygments_lexer": "ipython3",
   "version": "3.10.5"
  },
  "orig_nbformat": 4,
  "vscode": {
   "interpreter": {
    "hash": "689d7d1ce704ce18c4097533547d3dac0ab6501a30fd19e47700b34955fb39f1"
   }
  }
 },
 "nbformat": 4,
 "nbformat_minor": 2
}
